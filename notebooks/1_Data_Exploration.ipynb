{
 "cells": [
  {
   "cell_type": "code",
   "execution_count": null,
   "metadata": {},
   "outputs": [],
   "source": [
    "import numpy as np\n",
    "import pandas as pd"
   ]
  },
  {
   "cell_type": "code",
   "execution_count": null,
   "metadata": {},
   "outputs": [],
   "source": [
    "file_path = \"~/task-2b-failures-in-cellular-apoptosis/data/train_data.data\"\n",
    "# above .data file is comma delimited\n",
    "data = pd.read_csv(file_path, delimiter=\",\", low_memory=False)"
   ]
  },
  {
   "cell_type": "code",
   "execution_count": null,
   "metadata": {},
   "outputs": [],
   "source": [
    "data.head()"
   ]
  },
  {
   "cell_type": "code",
   "execution_count": null,
   "metadata": {},
   "outputs": [],
   "source": [
    "data.describe()"
   ]
  },
  {
   "cell_type": "code",
   "execution_count": null,
   "metadata": {},
   "outputs": [],
   "source": [
    "data.to_parquet(\n",
    "    \"~/task-2b-failures-in-cellular-apoptosis/data/df.parquet.gzip\", compression=\"gzip\"\n",
    ")"
   ]
  },
  {
   "cell_type": "code",
   "execution_count": null,
   "metadata": {},
   "outputs": [],
   "source": [
    "data = pd.read_parquet(\"~/task-2b-failures-in-cellular-apoptosis/data/df.parquet.gzip\")"
   ]
  },
  {
   "cell_type": "code",
   "execution_count": null,
   "metadata": {},
   "outputs": [],
   "source": [
    "data.head()"
   ]
  },
  {
   "cell_type": "markdown",
   "metadata": {},
   "source": [
    "The column Unnamed: 0 seems to be the index column. Most other columns seem to be floats. The column 5409 seems to contain many NaNs. There is one column that contains only question marks (as far as it can be seen here), maybe columns like this should be removed if it also contains question marks for all other columns that are not displayed here."
   ]
  },
  {
   "cell_type": "code",
   "execution_count": null,
   "metadata": {},
   "outputs": [],
   "source": [
    "data.dtypes"
   ]
  },
  {
   "cell_type": "code",
   "execution_count": null,
   "metadata": {},
   "outputs": [],
   "source": [
    "data.select_dtypes(include=\"float64\")"
   ]
  },
  {
   "cell_type": "code",
   "execution_count": null,
   "metadata": {},
   "outputs": [],
   "source": [
    "data.select_dtypes(include=\"object\")"
   ]
  },
  {
   "cell_type": "markdown",
   "metadata": {},
   "source": [
    "The id column is an integer, the last column 5409 is a float and all others are objects at the moment."
   ]
  },
  {
   "cell_type": "code",
   "execution_count": null,
   "metadata": {},
   "outputs": [],
   "source": [
    "np.unique(data[\"5409\"])"
   ]
  },
  {
   "cell_type": "markdown",
   "metadata": {},
   "source": [
    "The last column contains only NaN values."
   ]
  },
  {
   "cell_type": "code",
   "execution_count": null,
   "metadata": {},
   "outputs": [],
   "source": [
    "df_exl = data.select_dtypes(exclude=\"float64\")\n",
    "df_exl.isna().to_numpy().any()"
   ]
  },
  {
   "cell_type": "markdown",
   "metadata": {},
   "source": [
    "The columns apart from the 5409 column do not contain NaN values."
   ]
  },
  {
   "cell_type": "markdown",
   "metadata": {},
   "source": [
    "Next, I want to look into the question marks:"
   ]
  },
  {
   "cell_type": "code",
   "execution_count": null,
   "metadata": {},
   "outputs": [],
   "source": [
    "entry = data.iloc[2]\n",
    "# pick all apart from first and last column that are not ?\n",
    "selected = entry.to_numpy()[1:-1]\n",
    "np.unique(selected)"
   ]
  },
  {
   "cell_type": "code",
   "execution_count": null,
   "metadata": {},
   "outputs": [],
   "source": [
    "incomplete_entries = data.loc[data[\"2\"] == \"?\"]"
   ]
  },
  {
   "cell_type": "markdown",
   "metadata": {},
   "source": [
    "Found 261 rows with question marks. Not all of them have question marks in all columns. "
   ]
  },
  {
   "cell_type": "code",
   "execution_count": null,
   "metadata": {},
   "outputs": [],
   "source": [
    "indices = []\n",
    "for col in data.columns:\n",
    "    idx = data.loc[data[\"2\"] == \"?\"].index\n",
    "    for id in idx:\n",
    "        if id not in indices:\n",
    "            indices.append(id)\n",
    "print(indices)"
   ]
  },
  {
   "cell_type": "code",
   "execution_count": null,
   "metadata": {},
   "outputs": [],
   "source": [
    "len(indices)"
   ]
  },
  {
   "cell_type": "markdown",
   "metadata": {},
   "source": [
    "Also, when iterating through all columns, not more than 261 entries with question marks have been found."
   ]
  },
  {
   "cell_type": "code",
   "execution_count": null,
   "metadata": {},
   "outputs": [],
   "source": [
    "incomplete_entries\n",
    "idx_mixed = []\n",
    "idx_plain = []\n",
    "for index, row in incomplete_entries.iterrows():\n",
    "    selected = row.to_numpy()[1:-1]\n",
    "    unique_vals = np.unique(selected)\n",
    "    if len(unique_vals) == 1:\n",
    "        idx_plain.append(index)\n",
    "    else:\n",
    "        idx_mixed.append(index)\n",
    "\n",
    "print(f\"There are {len(idx_plain)} entries that just contain '?'.\")\n",
    "print(f\"There are {len(idx_mixed)} entries that contain other values apart from '?'.\")"
   ]
  },
  {
   "cell_type": "markdown",
   "metadata": {},
   "source": [
    "The 137 entries with just '?' and no other values should be removed from the dataframe, because they convey no information. For the 124 entries that have values for at least some columns a way to deal with the missing values needs to be found."
   ]
  },
  {
   "cell_type": "code",
   "execution_count": null,
   "metadata": {},
   "outputs": [],
   "source": [
    "data = data.drop(index=idx_plain)"
   ]
  },
  {
   "cell_type": "code",
   "execution_count": null,
   "metadata": {},
   "outputs": [],
   "source": [
    "data"
   ]
  },
  {
   "cell_type": "code",
   "execution_count": null,
   "metadata": {},
   "outputs": [],
   "source": [
    "cols = data.columns\n",
    "cols = cols.drop(labels=\"Unnamed: 0\")\n",
    "data[cols].drop_duplicates()"
   ]
  },
  {
   "cell_type": "markdown",
   "metadata": {},
   "source": [
    "When comparing all rows execpt for the index row unnamed 0, 5 entries get dropped as duplicated."
   ]
  },
  {
   "cell_type": "markdown",
   "metadata": {},
   "source": [
    "### External Info on Data"
   ]
  },
  {
   "cell_type": "markdown",
   "metadata": {},
   "source": [
    "Link to dataset: https://archive.ics.uci.edu/dataset/188/p53+mutants\n",
    "There are a total of 5409 attributes per instance.  \n",
    "Attributes 1-4826 represent 2D electrostatic and surface based features.\n",
    "Attributes 4827-5408 represent 3D distance based features.\n",
    "Attribute 5409 is the class attribute, which is either active or inactive."
   ]
  }
 ],
 "metadata": {
  "kernelspec": {
   "display_name": "Python 3 (usr)",
   "language": "python",
   "name": "python3-usr"
  },
  "language_info": {
   "codemirror_mode": {
    "name": "ipython",
    "version": 3
   },
   "file_extension": ".py",
   "mimetype": "text/x-python",
   "name": "python",
   "nbconvert_exporter": "python",
   "pygments_lexer": "ipython3",
   "version": "3.10.12"
  }
 },
 "nbformat": 4,
 "nbformat_minor": 2
}
