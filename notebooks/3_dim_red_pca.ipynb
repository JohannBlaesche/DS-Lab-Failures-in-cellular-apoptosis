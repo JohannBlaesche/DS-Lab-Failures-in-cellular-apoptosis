{
 "cells": [
  {
   "cell_type": "code",
   "execution_count": null,
   "metadata": {},
   "outputs": [],
   "source": [
    "import pandas as pd\n",
    "from apopfail.model import clean"
   ]
  },
  {
   "cell_type": "code",
   "execution_count": null,
   "metadata": {},
   "outputs": [],
   "source": [
    "X = pd.read_parquet(\"../data/train_set_p53mutant.parquet\")\n",
    "y = pd.read_csv(\n",
    "    \"../data/train_labels_p53mutant.csv\", index_col=0, skiprows=1, names=[\"target\"]\n",
    ")[\"target\"].map({\"inactive\": 0, \"active\": 1})"
   ]
  },
  {
   "cell_type": "code",
   "execution_count": null,
   "metadata": {},
   "outputs": [],
   "source": [
    "X, y = clean(X, y)"
   ]
  },
  {
   "cell_type": "code",
   "execution_count": null,
   "metadata": {},
   "outputs": [],
   "source": [
    "from sklearn.impute import SimpleImputer\n",
    "from sklearn.preprocessing import StandardScaler"
   ]
  },
  {
   "cell_type": "code",
   "execution_count": null,
   "metadata": {},
   "outputs": [],
   "source": [
    "X = SimpleImputer(strategy=\"mean\").fit_transform(X)\n",
    "X = StandardScaler().fit_transform(X)"
   ]
  },
  {
   "cell_type": "code",
   "execution_count": null,
   "metadata": {},
   "outputs": [],
   "source": [
    "X_normal = X[y == 0]\n",
    "X_abnormal = X[y == 1]\n",
    "\n",
    "X_normal = X_normal.astype(\"float32\")"
   ]
  },
  {
   "cell_type": "code",
   "execution_count": null,
   "metadata": {},
   "outputs": [],
   "source": [
    "# kernel pca\n",
    "from drcomp import estimate_intrinsic_dimension\n",
    "from drcomp.reducers import PCA, KernelPCA\n",
    "\n",
    "intrinsic_dim = estimate_intrinsic_dimension(X_normal)\n",
    "print(f\"{intrinsic_dim=}\")\n",
    "\n",
    "kpca = KernelPCA(intrinsic_dim=intrinsic_dim, kernel=\"poly\")\n",
    "kpca_rbf = KernelPCA(intrinsic_dim=intrinsic_dim, kernel=\"rbf\")\n",
    "kpca_sig = KernelPCA(intrinsic_dim=intrinsic_dim, kernel=\"sigmoid\")\n",
    "pca = PCA(intrinsic_dim=intrinsic_dim)\n",
    "\n",
    "X_kpca = kpca.fit_transform(X_normal)\n",
    "X_kpca_rbf = kpca_rbf.fit_transform(X_normal)\n",
    "X_kpca_sig = kpca_sig.fit_transform(X_normal)\n",
    "X_pca = pca.fit_transform(X_normal)"
   ]
  },
  {
   "cell_type": "code",
   "execution_count": null,
   "metadata": {},
   "outputs": [],
   "source": [
    "metrics_pca = pca.evaluate(X_normal, X_pca, max_K=30)\n",
    "metrics_kpca = kpca.evaluate(X_normal, X_kpca, max_K=30)\n",
    "metrics_kpca_rbf = kpca_rbf.evaluate(X_normal, X_kpca_rbf, max_K=30)\n",
    "metrics_kpca_sig = kpca_sig.evaluate(X_normal, X_kpca_sig, max_K=30)"
   ]
  },
  {
   "cell_type": "code",
   "execution_count": null,
   "metadata": {},
   "outputs": [],
   "source": [
    "from drcomp.plotting import compare_metrics"
   ]
  },
  {
   "cell_type": "code",
   "execution_count": null,
   "metadata": {},
   "outputs": [],
   "source": [
    "compare_metrics(\n",
    "    {\n",
    "        \"PCA\": metrics_pca,\n",
    "        \"KernelPCA poly\": metrics_kpca,\n",
    "        \"KernelPCA rbf\": metrics_kpca_rbf,\n",
    "        \"KernelPCA sigmoid\": metrics_kpca_sig,\n",
    "    }\n",
    ")"
   ]
  }
 ],
 "metadata": {
  "kernelspec": {
   "display_name": "venv",
   "language": "python",
   "name": "python3"
  },
  "language_info": {
   "codemirror_mode": {
    "name": "ipython",
    "version": 3
   },
   "file_extension": ".py",
   "mimetype": "text/x-python",
   "name": "python",
   "nbconvert_exporter": "python",
   "pygments_lexer": "ipython3",
   "version": "3.10.12"
  }
 },
 "nbformat": 4,
 "nbformat_minor": 2
}
