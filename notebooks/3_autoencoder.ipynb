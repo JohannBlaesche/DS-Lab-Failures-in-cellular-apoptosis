{
 "cells": [
  {
   "cell_type": "code",
   "execution_count": null,
   "metadata": {},
   "outputs": [],
   "source": [
    "%load_ext autoreload\n",
    "%autoreload 2"
   ]
  },
  {
   "cell_type": "code",
   "execution_count": null,
   "metadata": {},
   "outputs": [],
   "source": [
    "import numpy as np\n",
    "import pandas as pd\n",
    "import seaborn as sns\n",
    "import sklearn\n",
    "from apopfail.model import clean\n",
    "from torchinfo import summary\n",
    "\n",
    "sns.set_style(\"whitegrid\")\n",
    "\n",
    "sklearn.set_config(transform_output=\"pandas\")\n",
    "\n",
    "np.random.seed(0)"
   ]
  },
  {
   "cell_type": "code",
   "execution_count": null,
   "metadata": {},
   "outputs": [],
   "source": [
    "X = pd.read_parquet(\"../data/train_set_p53mutant.parquet\")\n",
    "y = pd.read_csv(\n",
    "    \"../data/train_labels_p53mutant.csv\", index_col=0, skiprows=1, names=[\"target\"]\n",
    ")[\"target\"].map({\"inactive\": 0, \"active\": 1})"
   ]
  },
  {
   "cell_type": "code",
   "execution_count": null,
   "metadata": {},
   "outputs": [],
   "source": [
    "X, y = clean(X, y)"
   ]
  },
  {
   "cell_type": "code",
   "execution_count": null,
   "metadata": {},
   "outputs": [],
   "source": [
    "from sklearn.impute import SimpleImputer\n",
    "from sklearn.preprocessing import StandardScaler"
   ]
  },
  {
   "cell_type": "code",
   "execution_count": null,
   "metadata": {},
   "outputs": [],
   "source": [
    "X = SimpleImputer(strategy=\"mean\").fit_transform(X)\n",
    "X = StandardScaler().fit_transform(X)"
   ]
  },
  {
   "cell_type": "code",
   "execution_count": null,
   "metadata": {},
   "outputs": [],
   "source": [
    "X_normal = X[y == 0]\n",
    "X_abnormal = X[y == 1]\n",
    "\n",
    "X_normal = X_normal.astype(\"float32\").to_numpy()"
   ]
  },
  {
   "cell_type": "code",
   "execution_count": null,
   "metadata": {},
   "outputs": [],
   "source": [
    "# needs pip install git+https://github.com/MoritzM00/drcomp.git\n",
    "from drcomp.autoencoder import FullyConnectedAE\n",
    "from drcomp.reducers import AutoEncoder\n",
    "from torch import nn"
   ]
  },
  {
   "cell_type": "code",
   "execution_count": null,
   "metadata": {},
   "outputs": [],
   "source": [
    "from skorch.callbacks import EarlyStopping, LRScheduler"
   ]
  },
  {
   "cell_type": "code",
   "execution_count": null,
   "metadata": {},
   "outputs": [],
   "source": [
    "ae = FullyConnectedAE(\n",
    "    input_size=X.shape[1],\n",
    "    hidden_layer_dims=[256, 128, 64],\n",
    "    intrinsic_dim=32,\n",
    "    include_batch_norm=True,\n",
    "    encoder_act_fn=nn.ReLU,\n",
    "    decoder_act_fn=nn.ReLU,\n",
    ")\n",
    "scheduler = LRScheduler(policy=\"ExponentialLR\", gamma=0.96)\n",
    "early_stopping = EarlyStopping(monitor=\"valid_loss\", patience=20, load_best=True)\n",
    "model = AutoEncoder(\n",
    "    ae,\n",
    "    max_epochs=200,\n",
    "    device=\"cuda\",\n",
    "    lr=1e-1,\n",
    "    callbacks=[early_stopping, scheduler],\n",
    "    n_jobs=3,\n",
    ").fit(X_normal)"
   ]
  },
  {
   "cell_type": "code",
   "execution_count": null,
   "metadata": {},
   "outputs": [],
   "source": [
    "summary(ae)"
   ]
  },
  {
   "cell_type": "code",
   "execution_count": null,
   "metadata": {},
   "outputs": [],
   "source": [
    "metrics_ae = model.evaluate(X_normal, max_K=30)"
   ]
  },
  {
   "cell_type": "code",
   "execution_count": null,
   "metadata": {},
   "outputs": [],
   "source": [
    "# kernel pca\n",
    "from drcomp import estimate_intrinsic_dimension\n",
    "from drcomp.reducers import PCA, KernelPCA\n",
    "\n",
    "intrinsic_dim = estimate_intrinsic_dimension(X_normal)\n",
    "print(f\"{intrinsic_dim=}\")\n",
    "\n",
    "kpca = KernelPCA(intrinsic_dim=intrinsic_dim, kernel=\"poly\")\n",
    "pca = PCA(intrinsic_dim=intrinsic_dim)\n",
    "\n",
    "X_kpca = kpca.fit_transform(X_normal)\n",
    "X_pca = pca.fit_transform(X_normal)"
   ]
  },
  {
   "cell_type": "code",
   "execution_count": null,
   "metadata": {},
   "outputs": [],
   "source": [
    "metrics_pca = pca.evaluate(X_normal, X_pca, max_K=30)\n",
    "metrics_kpca = kpca.evaluate(X_normal, X_kpca, max_K=30)"
   ]
  },
  {
   "cell_type": "code",
   "execution_count": null,
   "metadata": {},
   "outputs": [],
   "source": [
    "from drcomp.plotting import compare_metrics"
   ]
  },
  {
   "cell_type": "code",
   "execution_count": null,
   "metadata": {},
   "outputs": [],
   "source": [
    "compare_metrics({\"AE\": metrics_ae, \"PCA\": metrics_pca, \"KernelPCA\": metrics_kpca})"
   ]
  },
  {
   "cell_type": "code",
   "execution_count": null,
   "metadata": {},
   "outputs": [],
   "source": []
  }
 ],
 "metadata": {
  "kernelspec": {
   "display_name": "venv",
   "language": "python",
   "name": "python3"
  },
  "language_info": {
   "codemirror_mode": {
    "name": "ipython",
    "version": 3
   },
   "file_extension": ".py",
   "mimetype": "text/x-python",
   "name": "python",
   "nbconvert_exporter": "python",
   "pygments_lexer": "ipython3",
   "version": "3.10.12"
  }
 },
 "nbformat": 4,
 "nbformat_minor": 2
}
