{
 "cells": [
  {
   "cell_type": "code",
   "execution_count": null,
   "metadata": {},
   "outputs": [],
   "source": [
    "%load_ext autoreload\n",
    "%autoreload 2"
   ]
  },
  {
   "cell_type": "code",
   "execution_count": null,
   "metadata": {},
   "outputs": [],
   "source": [
    "import numpy as np\n",
    "import pandas as pd\n",
    "import seaborn as sns\n",
    "import sklearn\n",
    "from apopfail.model import clean\n",
    "from torchinfo import summary\n",
    "\n",
    "sns.set_style(\"whitegrid\")\n",
    "\n",
    "sklearn.set_config(transform_output=\"pandas\")\n",
    "\n",
    "np.random.seed(0)"
   ]
  },
  {
   "cell_type": "code",
   "execution_count": null,
   "metadata": {},
   "outputs": [],
   "source": [
    "X = pd.read_parquet(\"../data/train_set_p53mutant.parquet\")\n",
    "y = pd.read_csv(\n",
    "    \"../data/train_labels_p53mutant.csv\", index_col=0, skiprows=1, names=[\"target\"]\n",
    ")[\"target\"].map({\"inactive\": 0, \"active\": 1})"
   ]
  },
  {
   "cell_type": "code",
   "execution_count": null,
   "metadata": {},
   "outputs": [],
   "source": [
    "X, y = clean(X, y)"
   ]
  },
  {
   "cell_type": "code",
   "execution_count": null,
   "metadata": {},
   "outputs": [],
   "source": [
    "from sklearn.impute import SimpleImputer\n",
    "from sklearn.preprocessing import StandardScaler"
   ]
  },
  {
   "cell_type": "code",
   "execution_count": null,
   "metadata": {},
   "outputs": [],
   "source": [
    "X = SimpleImputer(strategy=\"mean\").fit_transform(X)\n",
    "X = StandardScaler().fit_transform(X)"
   ]
  },
  {
   "cell_type": "code",
   "execution_count": null,
   "metadata": {},
   "outputs": [],
   "source": [
    "X_normal = X[y == 0]\n",
    "X_abnormal = X[y == 1]\n",
    "\n",
    "X_normal = X_normal.astype(\"float32\").to_numpy()"
   ]
  },
  {
   "cell_type": "code",
   "execution_count": null,
   "metadata": {},
   "outputs": [],
   "source": [
    "# needs pip install git+https://github.com/MoritzM00/drcomp.git\n",
    "from drcomp.autoencoder import FullyConnectedAE\n",
    "from drcomp.reducers import AutoEncoder\n",
    "from torch import nn\n",
    "from torch.optim.lr_scheduler import OneCycleLR"
   ]
  },
  {
   "cell_type": "code",
   "execution_count": null,
   "metadata": {},
   "outputs": [],
   "source": [
    "from skorch.callbacks import EarlyStopping, LRScheduler"
   ]
  },
  {
   "cell_type": "code",
   "execution_count": null,
   "metadata": {},
   "outputs": [],
   "source": [
    "ae = FullyConnectedAE(\n",
    "    input_size=X.shape[1],\n",
    "    hidden_layer_dims=[256, 64],\n",
    "    intrinsic_dim=32,\n",
    "    include_batch_norm=True,\n",
    "    encoder_act_fn=nn.ReLU,\n",
    "    decoder_act_fn=nn.Identity,\n",
    ")\n",
    "early_stopping = EarlyStopping(monitor=\"train_loss\", patience=20, load_best=True)\n",
    "\n",
    "batch_size = 128\n",
    "max_epochs = 200\n",
    "inital_lr = 1e-3\n",
    "\n",
    "scheduler = LRScheduler(policy=OneCycleLR, max_lr=0.1, total_steps=max_epochs)\n",
    "model = AutoEncoder(\n",
    "    ae,\n",
    "    max_epochs=max_epochs,\n",
    "    device=\"cuda\",\n",
    "    lr=inital_lr,\n",
    "    batch_size=batch_size,\n",
    "    callbacks=[scheduler],\n",
    "    n_jobs=2,\n",
    ")\n",
    "model.train_split = None\n",
    "model.fit(X_normal)"
   ]
  },
  {
   "cell_type": "code",
   "execution_count": null,
   "metadata": {},
   "outputs": [],
   "source": [
    "# sns.lineplot(model.history[:, \"valid_loss\"], label=\"valid loss\")\n",
    "sns.lineplot(model.history[:, \"train_loss\"], label=\"train loss\")"
   ]
  },
  {
   "cell_type": "code",
   "execution_count": null,
   "metadata": {},
   "outputs": [],
   "source": [
    "sns.lineplot(model.history[:, \"event_lr\"], label=\"lr\")"
   ]
  },
  {
   "cell_type": "code",
   "execution_count": null,
   "metadata": {},
   "outputs": [],
   "source": [
    "summary(ae)"
   ]
  },
  {
   "cell_type": "code",
   "execution_count": null,
   "metadata": {},
   "outputs": [],
   "source": [
    "X_subset = pd.DataFrame(X_normal).sample(5000)"
   ]
  },
  {
   "cell_type": "code",
   "execution_count": null,
   "metadata": {},
   "outputs": [],
   "source": [
    "metrics_ae = model.evaluate(X_subset.to_numpy(), max_K=30)"
   ]
  },
  {
   "cell_type": "code",
   "execution_count": null,
   "metadata": {},
   "outputs": [],
   "source": [
    "# kernel pca\n",
    "from drcomp.reducers import PCA\n",
    "\n",
    "pca = PCA(intrinsic_dim=32)\n",
    "\n",
    "X_pca = pca.fit_transform(X_normal)"
   ]
  },
  {
   "cell_type": "code",
   "execution_count": null,
   "metadata": {},
   "outputs": [],
   "source": [
    "metrics_pca = pca.evaluate(X_subset, max_K=30)"
   ]
  },
  {
   "cell_type": "code",
   "execution_count": null,
   "metadata": {},
   "outputs": [],
   "source": [
    "from drcomp.plotting import compare_metrics"
   ]
  },
  {
   "cell_type": "code",
   "execution_count": null,
   "metadata": {},
   "outputs": [],
   "source": [
    "compare_metrics({\"AE\": metrics_ae, \"PCA\": metrics_pca})"
   ]
  },
  {
   "cell_type": "code",
   "execution_count": null,
   "metadata": {},
   "outputs": [],
   "source": []
  }
 ],
 "metadata": {
  "kernelspec": {
   "display_name": "venv",
   "language": "python",
   "name": "python3"
  },
  "language_info": {
   "codemirror_mode": {
    "name": "ipython",
    "version": 3
   },
   "file_extension": ".py",
   "mimetype": "text/x-python",
   "name": "python",
   "nbconvert_exporter": "python",
   "pygments_lexer": "ipython3",
   "version": "3.10.12"
  }
 },
 "nbformat": 4,
 "nbformat_minor": 2
}
