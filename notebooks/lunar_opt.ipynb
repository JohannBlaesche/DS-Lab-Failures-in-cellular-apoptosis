{
 "cells": [
  {
   "cell_type": "code",
   "execution_count": null,
   "metadata": {},
   "outputs": [],
   "source": [
    "import json\n",
    "\n",
    "import numpy as np\n",
    "import optuna\n",
    "from apopfail.model import clean, get_pipeline\n",
    "from apopfail.occ import split_data_subset\n",
    "from apopfail.utils.loading import load_data\n",
    "from pyod.models.lunar import LUNAR\n",
    "from sklearn.metrics import average_precision_score\n",
    "from sklearn.preprocessing import MinMaxScaler, StandardScaler"
   ]
  },
  {
   "cell_type": "code",
   "execution_count": null,
   "metadata": {},
   "outputs": [],
   "source": [
    "X, _, y = load_data(root=\"..\")\n",
    "X, y = clean(X, y)\n",
    "# X = get_pipeline(reducer=\"passthrough\", scaler=StandardScaler()).fit_transform(X)\n",
    "X = X.astype(np.float32)\n",
    "X_normal = X.loc[y == 0]\n",
    "X_abnormal = X.loc[y == 1]"
   ]
  },
  {
   "cell_type": "code",
   "execution_count": null,
   "metadata": {},
   "outputs": [],
   "source": [
    "train, test, test_labels = split_data_subset(X_normal, X_abnormal)"
   ]
  },
  {
   "cell_type": "code",
   "execution_count": null,
   "metadata": {},
   "outputs": [],
   "source": [
    "def get_lunar_param_space(trial):\n",
    "    \"\"\"Return the parameter space for Lunar to tune.\"\"\"\n",
    "    param_space = {\n",
    "        \"n_neighbours\": trial.suggest_int(\"n_neighbours\", 1, 2),\n",
    "        \"scaler\": trial.suggest_categorical(\n",
    "            \"n_jobs\", [MinMaxScaler(), StandardScaler()]\n",
    "        ),\n",
    "        \"epsilon\": trial.suggest_float(\"epsilon\", 0.1, 0.9),\n",
    "        \"proportion\": trial.suggest_float(\"porportion\", 0.1, 1),\n",
    "        \"n_epochs\": trial.suggest_int(\"n_epochs\", 100, 1000),\n",
    "        \"lr\": trial.suggest_float(\"lr\", 0.001, 0.1),\n",
    "        \"wd\": trial.suggest_float(\"wd\", 0.1, 0.9),\n",
    "    }\n",
    "    return param_space\n",
    "\n",
    "\n",
    "def get_lunar_objective(train, X_val, y_val):\n",
    "    \"\"\"Return the objective function for Lunar.\"\"\"\n",
    "    preprocessor = get_pipeline()\n",
    "    preprocessor.fit(train)\n",
    "\n",
    "    def objective(trial):\n",
    "        \"\"\"Tune lunar.\"\"\"\n",
    "        param_space = get_lunar_param_space(trial)\n",
    "        clf = LUNAR(**param_space)\n",
    "        model = get_pipeline(clf=clf)\n",
    "        model.fit(train)\n",
    "        y_pred = model.predict(X_val)\n",
    "        score = average_precision_score(y_val, y_pred)\n",
    "        return score\n",
    "\n",
    "    return objective"
   ]
  },
  {
   "cell_type": "code",
   "execution_count": null,
   "metadata": {},
   "outputs": [],
   "source": [
    "study_name = \"lunar\"\n",
    "\n",
    "objective = get_lunar_objective(train, test, test_labels)\n",
    "\n",
    "study = optuna.create_study(\n",
    "    study_name=study_name,\n",
    "    direction=\"maximize\",\n",
    "    # pruner=optuna.pruners.MedianPruner(n_warmup_steps=20),\n",
    ")\n",
    "\n",
    "study.optimize(objective, n_trials=100, show_progress_bar=True, timeout=1 * 60 * 60)\n",
    "\n",
    "best_params = study.best_params\n",
    "print(f\"Study completed with best score: {study.best_value:.4f}\")\n",
    "\n",
    "with open(f\"../output/{study_name}_best_params.json\", \"w\") as f:\n",
    "    json.dump(best_params, f, indent=4)"
   ]
  }
 ],
 "metadata": {
  "kernelspec": {
   "display_name": ".venv",
   "language": "python",
   "name": "python3"
  },
  "language_info": {
   "codemirror_mode": {
    "name": "ipython",
    "version": 3
   },
   "file_extension": ".py",
   "mimetype": "text/x-python",
   "name": "python",
   "nbconvert_exporter": "python",
   "pygments_lexer": "ipython3",
   "version": "3.10.12"
  }
 },
 "nbformat": 4,
 "nbformat_minor": 2
}
