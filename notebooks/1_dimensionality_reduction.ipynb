{
 "cells": [
  {
   "cell_type": "code",
   "execution_count": null,
   "metadata": {},
   "outputs": [],
   "source": [
    "import matplotlib.pyplot as plt\n",
    "import polars as pl\n",
    "import seaborn as sns\n",
    "import umap\n",
    "from sklearn.preprocessing import StandardScaler\n",
    "\n",
    "sns.set_theme(style=\"white\", context=\"notebook\", rc={\"figure.figsize\": (14, 10)})"
   ]
  },
  {
   "cell_type": "code",
   "execution_count": null,
   "metadata": {},
   "outputs": [],
   "source": [
    "X = pl.scan_csv(\"../data/train_data.data\", null_values=\"?\").collect()\n",
    "X.shape"
   ]
  },
  {
   "cell_type": "code",
   "execution_count": null,
   "metadata": {},
   "outputs": [],
   "source": [
    "X.head()"
   ]
  },
  {
   "cell_type": "code",
   "execution_count": null,
   "metadata": {},
   "outputs": [],
   "source": [
    "X.drop_in_place(\"5409\")\n",
    "X = X.drop_nulls()\n",
    "X.shape"
   ]
  },
  {
   "cell_type": "code",
   "execution_count": null,
   "metadata": {},
   "outputs": [],
   "source": [
    "X_2d_features = X[:, 0:4827]\n",
    "X_2d_features.drop_in_place(\"column_0\")\n",
    "print(f\"shape of 2Dfeatures: {X_2d_features.shape}\")\n",
    "X_3d_features = X[:, 4827:]\n",
    "print(f\"shape of 3D features: {X_3d_features.shape}\")"
   ]
  },
  {
   "cell_type": "code",
   "execution_count": null,
   "metadata": {},
   "outputs": [],
   "source": [
    "reducer = umap.UMAP(random_state=42)"
   ]
  },
  {
   "cell_type": "code",
   "execution_count": null,
   "metadata": {},
   "outputs": [],
   "source": [
    "X_2d_features_scaled = StandardScaler().fit_transform(X_2d_features)\n",
    "X_2d_features_scaled = pl.from_numpy(X_2d_features_scaled)\n",
    "X_3d_features_scaled = StandardScaler().fit_transform(X_3d_features)\n",
    "X_3d_features_scaled = pl.from_numpy(X_3d_features_scaled)"
   ]
  },
  {
   "cell_type": "code",
   "execution_count": null,
   "metadata": {},
   "outputs": [],
   "source": [
    "X_2d_features_scaled.head()"
   ]
  },
  {
   "cell_type": "code",
   "execution_count": null,
   "metadata": {},
   "outputs": [],
   "source": [
    "embedding_2D = reducer.fit_transform(X_2d_features_scaled.to_numpy())\n",
    "print(f\"shape of 2D embedding: {embedding_2D.shape}\")\n",
    "embedding_3D = reducer.fit_transform(X_3d_features_scaled.to_numpy())\n",
    "print(f\"shape of 2D embedding: {embedding_3D.shape}\")"
   ]
  },
  {
   "cell_type": "code",
   "execution_count": null,
   "metadata": {},
   "outputs": [],
   "source": [
    "fig, axes = plt.subplots(1, 2, figsize=(12, 6))\n",
    "\n",
    "# Scatterplot 1\n",
    "axes[0].scatter(embedding_2D[:, 0], embedding_2D[:, 1], c=X[:, 0].to_numpy())\n",
    "axes[0].set_aspect(\"equal\", \"datalim\")\n",
    "axes[0].set_title(\"2D features\")\n",
    "\n",
    "# Scatterplot 2\n",
    "axes[1].scatter(embedding_3D[:, 0], embedding_3D[:, 1], c=X[:, 4828].to_numpy())\n",
    "axes[1].set_aspect(\"equal\", \"datalim\")\n",
    "axes[1].set_title(\"3D features\")\n",
    "\n",
    "plt.gca().set_aspect(\"equal\", \"datalim\")\n",
    "plt.tight_layout()\n",
    "plt.show()"
   ]
  }
 ],
 "metadata": {
  "kernelspec": {
   "display_name": ".venv",
   "language": "python",
   "name": "python3"
  },
  "language_info": {
   "codemirror_mode": {
    "name": "ipython",
    "version": 3
   },
   "file_extension": ".py",
   "mimetype": "text/x-python",
   "name": "python",
   "nbconvert_exporter": "python",
   "pygments_lexer": "ipython3",
   "version": "3.10.12"
  }
 },
 "nbformat": 4,
 "nbformat_minor": 2
}
