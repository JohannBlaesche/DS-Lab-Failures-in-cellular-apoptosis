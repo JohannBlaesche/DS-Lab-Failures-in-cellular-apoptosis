{
 "cells": [
  {
   "cell_type": "code",
   "execution_count": null,
   "metadata": {},
   "outputs": [],
   "source": [
    "import matplotlib.pyplot as plt\n",
    "import numpy as np\n",
    "import polars as pl\n",
    "import seaborn as sns\n",
    "import umap\n",
    "from sklearn.preprocessing import StandardScaler\n",
    "\n",
    "sns.set_theme(context=\"notebook\", rc={\"figure.figsize\": (14, 10)}, palette=\"viridis\")"
   ]
  },
  {
   "cell_type": "code",
   "execution_count": null,
   "metadata": {},
   "outputs": [],
   "source": [
    "X = pl.scan_csv(\n",
    "    \"../data/train_data.data\", null_values=\"?\", row_index_name=\"index\"\n",
    ").collect()\n",
    "X.head()"
   ]
  },
  {
   "cell_type": "code",
   "execution_count": null,
   "metadata": {},
   "outputs": [],
   "source": [
    "y = pl.scan_csv(\"../data/train_gt.csv\", skip_rows=1, row_index_name=\"index\").collect()\n",
    "y = y.with_columns(\n",
    "    replaced=pl.col(\"inactive\").replace(\n",
    "        {\"inactive\": 0, \"active\": 1}, return_dtype=pl.Int8\n",
    "    )\n",
    ")\n",
    "y = y.drop(\"inactive\")\n",
    "# y = y.select(\n",
    "#     pl.col(\"0\").cast(pl.Int64)\n",
    "# )\n",
    "y.head()"
   ]
  },
  {
   "cell_type": "code",
   "execution_count": null,
   "metadata": {},
   "outputs": [],
   "source": [
    "joined_data = X.join(y, on=\"index\")\n",
    "joined_data"
   ]
  },
  {
   "cell_type": "code",
   "execution_count": null,
   "metadata": {},
   "outputs": [],
   "source": [
    "joined_data.drop_in_place(\"5409\")\n",
    "joined_data.drop_in_place(\"0_right\")\n",
    "joined_data = joined_data.drop_nulls()\n",
    "X.shape"
   ]
  },
  {
   "cell_type": "code",
   "execution_count": null,
   "metadata": {},
   "outputs": [],
   "source": [
    "joined_data.head()"
   ]
  },
  {
   "cell_type": "code",
   "execution_count": null,
   "metadata": {},
   "outputs": [],
   "source": [
    "X_2d_features = joined_data[:, 2:4828]\n",
    "# X_2d_features.drop_in_place(\"column_0\")\n",
    "print(f\"shape of 2D features: {X_2d_features.shape}\")\n",
    "X_3d_features = joined_data[:, 4829:]\n",
    "print(f\"shape of 3D features: {X_3d_features.shape}\")"
   ]
  },
  {
   "cell_type": "code",
   "execution_count": null,
   "metadata": {},
   "outputs": [],
   "source": [
    "X_2d_features"
   ]
  },
  {
   "cell_type": "code",
   "execution_count": null,
   "metadata": {},
   "outputs": [],
   "source": [
    "joined_data.head()"
   ]
  },
  {
   "cell_type": "code",
   "execution_count": null,
   "metadata": {},
   "outputs": [],
   "source": [
    "reducer = umap.UMAP(random_state=42)"
   ]
  },
  {
   "cell_type": "code",
   "execution_count": null,
   "metadata": {},
   "outputs": [],
   "source": [
    "X_2d_features_scaled = StandardScaler().fit_transform(X_2d_features)\n",
    "X_2d_features_scaled = pl.from_numpy(X_2d_features_scaled)\n",
    "X_3d_features_scaled = StandardScaler().fit_transform(X_3d_features)\n",
    "X_3d_features_scaled = pl.from_numpy(X_3d_features_scaled)"
   ]
  },
  {
   "cell_type": "code",
   "execution_count": null,
   "metadata": {},
   "outputs": [],
   "source": [
    "X_2d_features_scaled.head()"
   ]
  },
  {
   "cell_type": "code",
   "execution_count": null,
   "metadata": {},
   "outputs": [],
   "source": [
    "embedding_2D = reducer.fit_transform(X_2d_features_scaled.to_numpy())\n",
    "print(f\"shape of 2D embedding: {embedding_2D.shape}\")\n",
    "embedding_3D = reducer.fit_transform(X_3d_features_scaled.to_numpy())\n",
    "print(f\"shape of 2D embedding: {embedding_3D.shape}\")"
   ]
  },
  {
   "cell_type": "code",
   "execution_count": null,
   "metadata": {},
   "outputs": [],
   "source": [
    "fig, axes = plt.subplots(1, 2, figsize=(12, 6))\n",
    "\n",
    "# Scatterplot 1\n",
    "axes[0].scatter(embedding_2D[:, 0], embedding_2D[:, 1], c=joined_data[:, -1].to_numpy())\n",
    "axes[0].set_aspect(\"equal\", \"datalim\")\n",
    "axes[0].set_title(\"2D features\")\n",
    "\n",
    "# Scatterplot 2\n",
    "axes[1].scatter(embedding_3D[:, 0], embedding_3D[:, 1], c=joined_data[:, -1].to_numpy())\n",
    "axes[1].set_aspect(\"equal\", \"datalim\")\n",
    "axes[1].set_title(\"3D features\")\n",
    "\n",
    "plt.gca().set_aspect(\"equal\", \"datalim\")\n",
    "plt.tight_layout()\n",
    "plt.show()"
   ]
  },
  {
   "cell_type": "code",
   "execution_count": null,
   "metadata": {},
   "outputs": [],
   "source": [
    "def draw_umap(\n",
    "    data, n_neighbors=15, min_dist=0.1, n_components=3, metric=\"euclidean\", title=\"\"\n",
    "):\n",
    "    \"\"\"Draws a UMAP plot based on the given data.\"\"\"\n",
    "    fit = umap.UMAP(\n",
    "        n_neighbors=n_neighbors,\n",
    "        min_dist=min_dist,\n",
    "        n_components=n_components,\n",
    "        metric=metric,\n",
    "    )\n",
    "    u = fit.fit_transform(data)\n",
    "    color_map = {0: \"green\", 1: \"red\"}\n",
    "    color = np.vectorize(color_map.get)(data[:, -1].to_numpy())\n",
    "    fig = plt.figure()\n",
    "    if n_components == 1:\n",
    "        ax = fig.add_subplot(111)\n",
    "        ax.scatter(u[:, 0], range(len(u)), c=color)\n",
    "    if n_components == 2:\n",
    "        ax = fig.add_subplot(111)\n",
    "        ax.scatter(u[:, 0], u[:, 1], c=color)\n",
    "    if n_components == 3:\n",
    "        ax = fig.add_subplot(111, projection=\"3d\")\n",
    "        ax.scatter(u[:, 0], u[:, 1], u[:, 2], c=color, s=100)\n",
    "    plt.title(title, fontsize=18)"
   ]
  },
  {
   "cell_type": "code",
   "execution_count": null,
   "metadata": {},
   "outputs": [],
   "source": [
    "draw_umap(\n",
    "    X_3d_features,\n",
    "    min_dist=0.4,\n",
    "    n_components=3,\n",
    "    metric=\"euclidean\",\n",
    "    title=\"3D projection of the dataset\",\n",
    ")"
   ]
  }
 ],
 "metadata": {
  "kernelspec": {
   "display_name": ".venv",
   "language": "python",
   "name": "python3"
  },
  "language_info": {
   "codemirror_mode": {
    "name": "ipython",
    "version": 3
   },
   "file_extension": ".py",
   "mimetype": "text/x-python",
   "name": "python",
   "nbconvert_exporter": "python",
   "pygments_lexer": "ipython3",
   "version": "3.10.12"
  }
 },
 "nbformat": 4,
 "nbformat_minor": 2
}
