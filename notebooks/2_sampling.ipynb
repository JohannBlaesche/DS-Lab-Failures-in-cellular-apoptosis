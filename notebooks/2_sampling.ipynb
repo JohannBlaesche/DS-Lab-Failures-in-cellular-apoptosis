{
 "cells": [
  {
   "cell_type": "code",
   "execution_count": null,
   "metadata": {},
   "outputs": [],
   "source": [
    "%load_ext autoreload\n",
    "%autoreload 2"
   ]
  },
  {
   "cell_type": "code",
   "execution_count": null,
   "metadata": {},
   "outputs": [],
   "source": [
    "import math\n",
    "\n",
    "import matplotlib.pyplot as plt\n",
    "import numpy as np\n",
    "import pandas as pd\n",
    "import seaborn as sns\n",
    "import sklearn\n",
    "import umap.plot\n",
    "from apopfail.model import clean\n",
    "\n",
    "# needs umap install with plots dependency: pip install 'umap[plots]'\n",
    "from umap import UMAP\n",
    "\n",
    "sns.set_style(\"ticks\")\n",
    "\n",
    "sklearn.set_config(transform_output=\"pandas\")\n",
    "\n",
    "np.random.seed(0)"
   ]
  },
  {
   "cell_type": "code",
   "execution_count": null,
   "metadata": {},
   "outputs": [],
   "source": [
    "X = pd.read_parquet(\"../data/train_set_p53mutant.parquet\")\n",
    "y = pd.read_csv(\n",
    "    \"../data/train_labels_p53mutant.csv\", index_col=0, skiprows=1, names=[\"target\"]\n",
    ")"
   ]
  },
  {
   "cell_type": "code",
   "execution_count": null,
   "metadata": {},
   "outputs": [],
   "source": [
    "X, y = clean(X, y)"
   ]
  },
  {
   "cell_type": "code",
   "execution_count": null,
   "metadata": {},
   "outputs": [],
   "source": [
    "y.value_counts(normalize=True)"
   ]
  },
  {
   "cell_type": "code",
   "execution_count": null,
   "metadata": {},
   "outputs": [],
   "source": [
    "from apopfail.model import get_pipeline\n",
    "\n",
    "get_pipeline()"
   ]
  },
  {
   "cell_type": "code",
   "execution_count": null,
   "metadata": {},
   "outputs": [],
   "source": [
    "pipe = get_pipeline()\n",
    "X_processed = pipe.fit_transform(X, y)"
   ]
  },
  {
   "cell_type": "code",
   "execution_count": null,
   "metadata": {},
   "outputs": [],
   "source": [
    "pca = pipe.named_steps[\"reducer\"]\n",
    "\n",
    "pca.n_components_"
   ]
  },
  {
   "cell_type": "code",
   "execution_count": null,
   "metadata": {},
   "outputs": [],
   "source": [
    "sns.lineplot(pca.singular_values_**2)"
   ]
  },
  {
   "cell_type": "code",
   "execution_count": null,
   "metadata": {},
   "outputs": [],
   "source": [
    "g = sns.lineplot(pca.explained_variance_ratio_.cumsum())\n",
    "g.axhline(0.95, color=\"red\")\n",
    "g.axhline(0.99, color=\"green\")"
   ]
  },
  {
   "cell_type": "code",
   "execution_count": null,
   "metadata": {},
   "outputs": [],
   "source": [
    "# choosing the sampling strategy\n",
    "\n",
    "current_ratio = y.value_counts(normalize=True).iloc[1]\n",
    "current_ratio"
   ]
  },
  {
   "cell_type": "code",
   "execution_count": null,
   "metadata": {},
   "outputs": [],
   "source": [
    "desired_ratio = 0.1"
   ]
  },
  {
   "cell_type": "code",
   "execution_count": null,
   "metadata": {},
   "outputs": [],
   "source": [
    "def print_ratios(y):\n",
    "    \"\"\"Print the value counts and the ratio of the minority class.\"\"\"\n",
    "    print(y.value_counts())\n",
    "    print(y.value_counts(normalize=True).iloc[1])"
   ]
  },
  {
   "cell_type": "code",
   "execution_count": null,
   "metadata": {},
   "outputs": [],
   "source": [
    "print_ratios(y)"
   ]
  },
  {
   "cell_type": "code",
   "execution_count": null,
   "metadata": {},
   "outputs": [],
   "source": [
    "from imblearn.combine import SMOTEENN, SMOTETomek\n",
    "from imblearn.over_sampling import ADASYN, SMOTE\n",
    "from imblearn.under_sampling import (\n",
    "    EditedNearestNeighbours,\n",
    "    RandomUnderSampler,\n",
    "    TomekLinks,\n",
    ")\n",
    "from sklearn.neighbors import NearestNeighbors\n",
    "\n",
    "k_neighbors = NearestNeighbors(n_neighbors=10, n_jobs=-1)\n",
    "\n",
    "smote = SMOTE(random_state=0, sampling_strategy=desired_ratio, k_neighbors=k_neighbors)\n",
    "tomek = TomekLinks(n_jobs=-1)\n",
    "enn = EditedNearestNeighbours(n_jobs=-1)\n",
    "\n",
    "samplers = {\n",
    "    \"SMOTE\": smote,\n",
    "    \"ADASYN\": ADASYN(\n",
    "        random_state=0,\n",
    "        n_jobs=-1,\n",
    "        sampling_strategy=desired_ratio,\n",
    "        n_neighbors=k_neighbors,\n",
    "    ),\n",
    "    \"RandomUnderSampler\": RandomUnderSampler(\n",
    "        random_state=0, sampling_strategy=desired_ratio\n",
    "    ),\n",
    "    \"TomekLinks\": tomek,\n",
    "    \"EditedNearestNeighbors\": enn,\n",
    "    \"SMOTEENN\": SMOTEENN(smote=smote, enn=enn),\n",
    "    \"SMOTETomek\": SMOTETomek(smote=smote, tomek=tomek),\n",
    "}"
   ]
  },
  {
   "cell_type": "code",
   "execution_count": null,
   "metadata": {},
   "outputs": [],
   "source": [
    "# Calculate the grid size\n",
    "num_samplers = len(samplers)\n",
    "cols = math.ceil(math.sqrt(num_samplers))\n",
    "rows = math.ceil(num_samplers / cols)\n",
    "\n",
    "# Create a figure and set of subplots\n",
    "fig, axs = plt.subplots(rows, cols, figsize=(15, 10))  # Adjust figsize as needed\n",
    "axs = axs.flatten()  # Flatten the 2D array of axes to make iteration easier\n",
    "\n",
    "for i, (name, sampler) in enumerate(samplers.items()):\n",
    "    print(\"Using sampler\", name)\n",
    "    X_resampled, y_resampled = sampler.fit_resample(X_processed, y)\n",
    "    print_ratios(y_resampled)\n",
    "    mapper = UMAP(n_components=2).fit(X_resampled)\n",
    "    ax = axs[i]\n",
    "    umap.plot.points(mapper, labels=y_resampled, ax=ax)\n",
    "    ax.set_title(f\"{name}\")\n",
    "\n",
    "# Hide any unused subplots\n",
    "for j in range(i + 1, len(axs)):\n",
    "    fig.delaxes(axs[j])\n",
    "\n",
    "plt.tight_layout()\n",
    "plt.savefig(\"../output/sampling_strategies.svg\", bbox_inches=\"tight\")\n",
    "plt.show()"
   ]
  },
  {
   "cell_type": "code",
   "execution_count": null,
   "metadata": {},
   "outputs": [],
   "source": []
  }
 ],
 "metadata": {
  "kernelspec": {
   "display_name": "venv",
   "language": "python",
   "name": "python3"
  },
  "language_info": {
   "codemirror_mode": {
    "name": "ipython",
    "version": 3
   },
   "file_extension": ".py",
   "mimetype": "text/x-python",
   "name": "python",
   "nbconvert_exporter": "python",
   "pygments_lexer": "ipython3",
   "version": "3.10.12"
  }
 },
 "nbformat": 4,
 "nbformat_minor": 2
}
