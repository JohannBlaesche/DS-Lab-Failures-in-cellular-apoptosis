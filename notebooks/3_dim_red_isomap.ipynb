{
 "cells": [
  {
   "cell_type": "code",
   "execution_count": null,
   "metadata": {},
   "outputs": [],
   "source": [
    "%load_ext autoreload\n",
    "%autoreload 2"
   ]
  },
  {
   "cell_type": "code",
   "execution_count": null,
   "metadata": {},
   "outputs": [],
   "source": [
    "import numpy as np\n",
    "import pandas as pd\n",
    "import seaborn as sns\n",
    "import sklearn\n",
    "from apopfail.model import clean\n",
    "\n",
    "sns.set_style(\"whitegrid\")\n",
    "\n",
    "sklearn.set_config(transform_output=\"pandas\")\n",
    "\n",
    "np.random.seed(0)"
   ]
  },
  {
   "cell_type": "code",
   "execution_count": null,
   "metadata": {},
   "outputs": [],
   "source": [
    "X = pd.read_parquet(\"../data/train_set_p53mutant.parquet\")\n",
    "y = pd.read_csv(\n",
    "    \"../data/train_labels_p53mutant.csv\", index_col=0, skiprows=1, names=[\"target\"]\n",
    ")[\"target\"].map({\"inactive\": 0, \"active\": 1})"
   ]
  },
  {
   "cell_type": "code",
   "execution_count": null,
   "metadata": {},
   "outputs": [],
   "source": [
    "X, y = clean(X, y)"
   ]
  },
  {
   "cell_type": "code",
   "execution_count": null,
   "metadata": {},
   "outputs": [],
   "source": [
    "from sklearn.impute import SimpleImputer\n",
    "from sklearn.preprocessing import StandardScaler"
   ]
  },
  {
   "cell_type": "code",
   "execution_count": null,
   "metadata": {},
   "outputs": [],
   "source": [
    "X = SimpleImputer(strategy=\"mean\").fit_transform(X)\n",
    "X = StandardScaler().fit_transform(X)"
   ]
  },
  {
   "cell_type": "code",
   "execution_count": null,
   "metadata": {},
   "outputs": [],
   "source": [
    "from sklearn.manifold import Isomap, trustworthiness"
   ]
  },
  {
   "cell_type": "code",
   "execution_count": null,
   "metadata": {},
   "outputs": [],
   "source": [
    "embedding = Isomap(n_components=15, n_neighbors=5)\n",
    "X_transformed = embedding.fit_transform(X)"
   ]
  },
  {
   "cell_type": "code",
   "execution_count": null,
   "metadata": {},
   "outputs": [],
   "source": [
    "embedding.reconstruction_error()"
   ]
  },
  {
   "cell_type": "code",
   "execution_count": null,
   "metadata": {},
   "outputs": [],
   "source": [
    "X_transformed.head(5)"
   ]
  },
  {
   "cell_type": "code",
   "execution_count": null,
   "metadata": {},
   "outputs": [],
   "source": [
    "trustworthiness(X, X_transformed, n_neighbors=5)"
   ]
  },
  {
   "cell_type": "code",
   "execution_count": null,
   "metadata": {},
   "outputs": [],
   "source": [
    "from drcomp import DimensionalityReducer\n",
    "from sklearn.manifold import Isomap as _Isomap\n",
    "from umap import UMAP\n",
    "\n",
    "\n",
    "class Isomap(DimensionalityReducer):\n",
    "    \"\"\"Wrapper for Isomap dimensionality reduction algorithm.\"\"\"\n",
    "\n",
    "    def __init__(self, n_components=2, n_neighbors=5):\n",
    "        \"\"\"Initialize Isomap dimensionality reduction algorithm.\"\"\"\n",
    "        super().__init__(n_components)\n",
    "        self.n_neighbors = n_neighbors\n",
    "        self.n_components = n_components\n",
    "\n",
    "    def fit(self, X):\n",
    "        \"\"\"Fit Isomap model to data.\"\"\"\n",
    "        self.model = _Isomap(\n",
    "            n_components=self.n_components, n_neighbors=self.n_neighbors\n",
    "        )\n",
    "        self.model.fit(X)\n",
    "        return self\n",
    "\n",
    "    def transform(self, X):\n",
    "        \"\"\"Transform data using Isomap model.\"\"\"\n",
    "        return self.model.transform(X)\n",
    "\n",
    "\n",
    "class Umap(DimensionalityReducer):\n",
    "    \"\"\"Wrapper for UMAP dimensionality reduction algorithm.\"\"\"\n",
    "\n",
    "    def __init__(self, n_components=2, n_neighbors=5):\n",
    "        \"\"\"Initialize UMAP dimensionality reduction algorithm.\"\"\"\n",
    "        super().__init__(n_components)\n",
    "        self.n_neighbors = n_neighbors\n",
    "        self.n_components = n_components\n",
    "\n",
    "    def fit(self, X):\n",
    "        \"\"\"Fit UMAP model to data.\"\"\"\n",
    "        self.model = UMAP(n_components=self.n_components, n_neighbors=self.n_neighbors)\n",
    "        self.model.fit(X)\n",
    "        return self\n",
    "\n",
    "    def transform(self, X):\n",
    "        \"\"\"Transform data using UMAP model.\"\"\"\n",
    "        return self.model.transform(X)"
   ]
  },
  {
   "cell_type": "code",
   "execution_count": null,
   "metadata": {},
   "outputs": [],
   "source": [
    "from drcomp import estimate_intrinsic_dimension\n",
    "from drcomp.reducers import PCA"
   ]
  },
  {
   "cell_type": "code",
   "execution_count": null,
   "metadata": {},
   "outputs": [],
   "source": [
    "intrinsic_dim = estimate_intrinsic_dimension(X)\n",
    "print(f\"{intrinsic_dim=}\")\n",
    "pca = PCA(n_components=intrinsic_dim)\n",
    "isomap = Isomap(n_components=intrinsic_dim)\n",
    "umap = Umap(n_components=intrinsic_dim)\n",
    "\n",
    "X_pca = pca.fit_transform(X)\n",
    "X_umap = umap.fit_transform(X)\n",
    "X_isomap = isomap.fit_transform(X)"
   ]
  },
  {
   "cell_type": "code",
   "execution_count": null,
   "metadata": {},
   "outputs": [],
   "source": [
    "metrics_pca = pca.evaluate(X, max_K=30)\n",
    "metrics_umap = umap.evaluate(X, max_K=30)\n",
    "metrics_isomap = isomap.evaluate(X, max_K=30)"
   ]
  },
  {
   "cell_type": "code",
   "execution_count": null,
   "metadata": {},
   "outputs": [],
   "source": [
    "from drcomp import compare_metrics"
   ]
  },
  {
   "cell_type": "code",
   "execution_count": null,
   "metadata": {},
   "outputs": [],
   "source": [
    "compare_metrics(\n",
    "    {\"PCA\": metrics_pca, \"UMAP\": metrics_umap, \"Isomap\": metrics_isomap},\n",
    ")"
   ]
  }
 ],
 "metadata": {
  "kernelspec": {
   "display_name": ".venv",
   "language": "python",
   "name": "python3"
  },
  "language_info": {
   "codemirror_mode": {
    "name": "ipython",
    "version": 3
   },
   "file_extension": ".py",
   "mimetype": "text/x-python",
   "name": "python",
   "nbconvert_exporter": "python",
   "pygments_lexer": "ipython3",
   "version": "3.10.12"
  }
 },
 "nbformat": 4,
 "nbformat_minor": 2
}
