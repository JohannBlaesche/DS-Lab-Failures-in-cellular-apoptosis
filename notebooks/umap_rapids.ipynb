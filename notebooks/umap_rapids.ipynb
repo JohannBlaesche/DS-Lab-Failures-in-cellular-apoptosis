{
 "cells": [
  {
   "cell_type": "code",
   "execution_count": null,
   "metadata": {},
   "outputs": [],
   "source": [
    "import cudf\n",
    "import cuml\n",
    "import matplotlib.pyplot as plt\n",
    "import seaborn as sns"
   ]
  },
  {
   "cell_type": "code",
   "execution_count": null,
   "metadata": {},
   "outputs": [],
   "source": [
    "X = cudf.read_parquet(\"../data/processed/train.parquet\")"
   ]
  },
  {
   "cell_type": "code",
   "execution_count": null,
   "metadata": {},
   "outputs": [],
   "source": [
    "X.head()"
   ]
  },
  {
   "cell_type": "code",
   "execution_count": null,
   "metadata": {},
   "outputs": [],
   "source": [
    "y = cudf.read_csv(\"../data/raw/train_gt.csv\", index_col=0, skiprows=0)"
   ]
  },
  {
   "cell_type": "code",
   "execution_count": null,
   "metadata": {},
   "outputs": [],
   "source": [
    "df = X.drop(columns=\"target\").join(y)\n",
    "df.head()"
   ]
  },
  {
   "cell_type": "code",
   "execution_count": null,
   "metadata": {},
   "outputs": [],
   "source": [
    "df = df.dropna()\n",
    "X = df.drop(columns=\"5408\")"
   ]
  },
  {
   "cell_type": "code",
   "execution_count": null,
   "metadata": {},
   "outputs": [],
   "source": [
    "from cuml.preprocessing import Normalizer\n",
    "\n",
    "X = Normalizer().fit_transform(X)"
   ]
  },
  {
   "cell_type": "code",
   "execution_count": null,
   "metadata": {},
   "outputs": [],
   "source": [
    "from cuml.manifold.umap import UMAP as cuUMAP\n",
    "from umap import UMAP\n",
    "\n",
    "trained_UMAP = cuUMAP(n_neighbors=8).fit(X)\n",
    "mod = UMAP(n_neighbors=8).fit(X.to_pandas())\n",
    "X_embedded = trained_UMAP.transform(X)\n",
    "\n",
    "cu_score = cuml.metrics.trustworthiness(X, X_embedded)\n",
    "\n",
    "print(\" cuml's trustworthiness score : \", cu_score)"
   ]
  },
  {
   "cell_type": "code",
   "execution_count": null,
   "metadata": {},
   "outputs": [],
   "source": [
    "X_emb = X_embedded.to_numpy()\n",
    "df_np = df.to_pandas()"
   ]
  },
  {
   "cell_type": "code",
   "execution_count": null,
   "metadata": {},
   "outputs": [],
   "source": [
    "# plot the umap embedding\n",
    "\n",
    "plt.figure(figsize=(10, 10))\n",
    "sns.scatterplot(x=X_emb[:, 0], y=X_emb[:, 1], hue=df_np[\"5408\"])"
   ]
  },
  {
   "cell_type": "code",
   "execution_count": null,
   "metadata": {},
   "outputs": [],
   "source": [
    "import umap.plot"
   ]
  },
  {
   "cell_type": "code",
   "execution_count": null,
   "metadata": {},
   "outputs": [],
   "source": [
    "umap.plot.points(\n",
    "    mod,\n",
    "    labels=df_np[\"5408\"],\n",
    "    width=1200,\n",
    "    height=800,\n",
    "    color_key={\"active\": \"red\", \"inactive\": \"#8dd3c7\"},\n",
    ")\n",
    "plt.title(f\"UMAP 2D Embedding on L2-normalized Data (T={cu_score:.2f})\")\n",
    "plt.savefig(\"../output/umap_2d.png\", bbox_inches=\"tight\")"
   ]
  },
  {
   "cell_type": "code",
   "execution_count": null,
   "metadata": {},
   "outputs": [],
   "source": [
    "X.kurtosis().to_pandas().plot(kind=\"bar\", figsize=(20, 10))"
   ]
  },
  {
   "cell_type": "code",
   "execution_count": null,
   "metadata": {},
   "outputs": [],
   "source": []
  }
 ],
 "metadata": {
  "kernelspec": {
   "display_name": "venv",
   "language": "python",
   "name": "python3"
  },
  "language_info": {
   "codemirror_mode": {
    "name": "ipython",
    "version": 3
   },
   "file_extension": ".py",
   "mimetype": "text/x-python",
   "name": "python",
   "nbconvert_exporter": "python",
   "pygments_lexer": "ipython3",
   "version": "3.10.12"
  }
 },
 "nbformat": 4,
 "nbformat_minor": 2
}
