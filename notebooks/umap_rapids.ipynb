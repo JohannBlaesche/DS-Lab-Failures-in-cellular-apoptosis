{
 "cells": [
  {
   "cell_type": "code",
   "execution_count": null,
   "metadata": {},
   "outputs": [],
   "source": [
    "import cudf\n",
    "import cuml\n",
    "import matplotlib.pyplot as plt\n",
    "import seaborn as sns\n",
    "from joblib import dump"
   ]
  },
  {
   "cell_type": "code",
   "execution_count": null,
   "metadata": {},
   "outputs": [],
   "source": [
    "X = cudf.read_parquet(\"../data/processed/train.parquet\")"
   ]
  },
  {
   "cell_type": "code",
   "execution_count": null,
   "metadata": {},
   "outputs": [],
   "source": [
    "X.head()"
   ]
  },
  {
   "cell_type": "code",
   "execution_count": null,
   "metadata": {},
   "outputs": [],
   "source": [
    "y = X.pop(\"target\")"
   ]
  },
  {
   "cell_type": "code",
   "execution_count": null,
   "metadata": {},
   "outputs": [],
   "source": [
    "y = cudf.read_csv(\"../data/raw/train_gt.csv\", index_col=0, skiprows=0)"
   ]
  },
  {
   "cell_type": "code",
   "execution_count": null,
   "metadata": {},
   "outputs": [],
   "source": [
    "df = X.drop(columns=\"target\").join(y)\n",
    "df.head()"
   ]
  },
  {
   "cell_type": "code",
   "execution_count": null,
   "metadata": {},
   "outputs": [],
   "source": [
    "df = df.dropna()\n",
    "X = df.drop(columns=\"5408\")"
   ]
  },
  {
   "cell_type": "code",
   "execution_count": null,
   "metadata": {},
   "outputs": [],
   "source": [
    "from cuml.decomposition import PCA\n",
    "from cuml.preprocessing import SimpleImputer, StandardScaler\n",
    "from imblearn.pipeline import Pipeline\n",
    "\n",
    "steps = [\n",
    "    (\"imputer\", SimpleImputer(strategy=\"mean\")),\n",
    "    (\"scaler\", StandardScaler()),\n",
    "    (\"reducer\", PCA(n_components=100)),\n",
    "    # (\"sampler\", RandomUnderSampler()),\n",
    "]\n",
    "\n",
    "\n",
    "pipe = Pipeline(steps=steps)"
   ]
  },
  {
   "cell_type": "code",
   "execution_count": null,
   "metadata": {},
   "outputs": [],
   "source": [
    "pipe.fit(X, y)"
   ]
  },
  {
   "cell_type": "code",
   "execution_count": null,
   "metadata": {},
   "outputs": [],
   "source": [
    "from cuml.manifold.umap import UMAP as cuUMAP\n",
    "\n",
    "trained_UMAP = cuUMAP(n_neighbors=10).fit(X)\n",
    "X_embedded = trained_UMAP.transform(X)\n",
    "\n",
    "cu_score = cuml.metrics.trustworthiness(X, X_embedded)\n",
    "\n",
    "print(\" cuml's trustworthiness score : \", cu_score)\n",
    "\n",
    "# save\n",
    "dump(trained_UMAP, \"UMAP.model\")\n",
    "\n",
    "# to reload the model uncomment the line below\n",
    "# loaded_model = load('UMAP.model')"
   ]
  },
  {
   "cell_type": "code",
   "execution_count": null,
   "metadata": {},
   "outputs": [],
   "source": [
    "X_emb = X_embedded.to_numpy()\n",
    "df_np = df.to_pandas()"
   ]
  },
  {
   "cell_type": "code",
   "execution_count": null,
   "metadata": {},
   "outputs": [],
   "source": [
    "# plot the umap embedding\n",
    "\n",
    "plt.figure(figsize=(10, 10))\n",
    "sns.scatterplot(x=X_emb[:, 0], y=X_emb[:, 1], hue=df_np[\"5408\"])"
   ]
  },
  {
   "cell_type": "code",
   "execution_count": null,
   "metadata": {},
   "outputs": [],
   "source": []
  }
 ],
 "metadata": {
  "kernelspec": {
   "display_name": "venv",
   "language": "python",
   "name": "python3"
  },
  "language_info": {
   "codemirror_mode": {
    "name": "ipython",
    "version": 3
   },
   "file_extension": ".py",
   "mimetype": "text/x-python",
   "name": "python",
   "nbconvert_exporter": "python",
   "pygments_lexer": "ipython3",
   "version": "3.10.12"
  }
 },
 "nbformat": 4,
 "nbformat_minor": 2
}
